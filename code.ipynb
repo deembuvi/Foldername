{
 "cells": [
  {
   "cell_type": "code",
   "execution_count": 1,
   "id": "7ca67630-d807-45d3-9971-72ad398cd3f7",
   "metadata": {},
   "outputs": [
    {
     "name": "stdout",
     "output_type": "stream",
     "text": [
      "hello world\n"
     ]
    }
   ],
   "source": [
    "'hello world' \n",
    "print ('hello world')"
   ]
  },
  {
   "cell_type": "code",
   "execution_count": 2,
   "id": "c4f5b7dc-7112-40a8-87b7-7405abe1eb5a",
   "metadata": {},
   "outputs": [
    {
     "name": "stdout",
     "output_type": "stream",
     "text": [
      "{'brand': 'chanel', 'model': 'classic tote', 'color': 'red', 'size': 'small'}\n"
     ]
    }
   ],
   "source": [
    "dict={'brand' : 'chanel',\n",
    "     'model' : 'classic tote',\n",
    "     'color' : 'red',\n",
    "     'size' : 'small'}\n",
    "print (dict)"
   ]
  },
  {
   "cell_type": "code",
   "execution_count": null,
   "id": "6240383e-b9e1-4d64-af01-8b7432d7d29a",
   "metadata": {},
   "outputs": [],
   "source": []
  }
 ],
 "metadata": {
  "kernelspec": {
   "display_name": "Python 3 (ipykernel)",
   "language": "python",
   "name": "python3"
  },
  "language_info": {
   "codemirror_mode": {
    "name": "ipython",
    "version": 3
   },
   "file_extension": ".py",
   "mimetype": "text/x-python",
   "name": "python",
   "nbconvert_exporter": "python",
   "pygments_lexer": "ipython3",
   "version": "3.12.4"
  }
 },
 "nbformat": 4,
 "nbformat_minor": 5
}
